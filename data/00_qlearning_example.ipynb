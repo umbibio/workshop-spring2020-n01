{
 "cells": [
  {
   "cell_type": "code",
   "execution_count": null,
   "metadata": {},
   "outputs": [],
   "source": [
    "import gym\n",
    "import numpy as np\n",
    "from gym.wrappers.monitoring.video_recorder import VideoRecorder"
   ]
  },
  {
   "cell_type": "code",
   "execution_count": null,
   "metadata": {},
   "outputs": [],
   "source": [
    "from collections import defaultdict\n",
    "Q = defaultdict(float)\n",
    "gamma = 0.99  # Discounting factor\n",
    "alpha = 0.5  # soft update param\n",
    "\n",
    "env = gym.make(\"CartPole-v0\")\n",
    "actions = range(env.action_space.n)"
   ]
  },
  {
   "cell_type": "code",
   "execution_count": null,
   "metadata": {},
   "outputs": [],
   "source": [
    "rec = VideoRecorder(env, base_path='./video0_random')\n",
    "env.reset()\n",
    "for step in range(100):\n",
    "    action = env.action_space.sample()\n",
    "    state, reward, done, info = env.step(action)\n",
    "    rec.capture_frame()\n",
    "rec.close()"
   ]
  },
  {
   "cell_type": "code",
   "execution_count": null,
   "metadata": {},
   "outputs": [],
   "source": [
    "def update_Q(s, r, a, s_next, done):\n",
    "    max_q_next = max([Q[s_next, a] for a in actions]) \n",
    "    # Do not include the next state's value if currently at the terminal state.\n",
    "    Q[s, a] += alpha * (r + gamma * max_q_next * (1.0 - done) - Q[s, a])"
   ]
  },
  {
   "cell_type": "code",
   "execution_count": null,
   "metadata": {},
   "outputs": [],
   "source": [
    "class DiscretizedObservationWrapper(gym.ObservationWrapper):\n",
    "    \"\"\"This wrapper converts a Box observation into a single integer.\n",
    "    \"\"\"\n",
    "    def __init__(self, env, n_bins=10, low=None, high=None):\n",
    "        super().__init__(env)\n",
    "        assert isinstance(env.observation_space, gym.spaces.Box)\n",
    "\n",
    "        low = self.observation_space.low if low is None else low\n",
    "        high = self.observation_space.high if high is None else high\n",
    "\n",
    "        self.n_bins = n_bins\n",
    "        self.val_bins = [np.linspace(l, h, n_bins + 1) for l, h in\n",
    "                         zip(low.flatten(), high.flatten())]\n",
    "        self.observation_space = gym.spaces.Discrete(n_bins ** low.flatten().shape[0])\n",
    "\n",
    "    def _convert_to_one_number(self, digits):\n",
    "        return sum([d * ((self.n_bins + 1) ** i) for i, d in enumerate(digits)])\n",
    "\n",
    "    def observation(self, observation):\n",
    "        digits = [np.digitize([x], bins)[0]\n",
    "                  for x, bins in zip(observation.flatten(), self.val_bins)]\n",
    "        return self._convert_to_one_number(digits)"
   ]
  },
  {
   "cell_type": "code",
   "execution_count": null,
   "metadata": {},
   "outputs": [],
   "source": [
    "env = DiscretizedObservationWrapper(\n",
    "    env,\n",
    "    n_bins=16,\n",
    ")"
   ]
  },
  {
   "cell_type": "code",
   "execution_count": null,
   "metadata": {},
   "outputs": [],
   "source": [
    "n_steps = 100000\n",
    "epsilon = 0.2  # 10% chances to apply a random action\n",
    "\n",
    "def act(state, greedy=False):\n",
    "    if not greedy and np.random.random() < epsilon:\n",
    "        # action_space.sample() is a convenient function to get a random action\n",
    "        # that is compatible with this given action space.\n",
    "        return env.action_space.sample()\n",
    "\n",
    "    # Pick the action with highest q value.\n",
    "    qvals = {a: Q[state, a] for a in actions}\n",
    "    max_q = max(qvals.values())\n",
    "    # In case multiple actions have the same maximum q value.\n",
    "    actions_with_max_q = [a for a, q in qvals.items() if q == max_q]\n",
    "    return np.random.choice(actions_with_max_q)\n",
    "\n",
    "ob = env.reset()\n",
    "rewards = []\n",
    "reward = 0.0\n",
    "\n",
    "for step in range(n_steps):\n",
    "    a = act(ob)\n",
    "    ob_next, r, done, _ = env.step(a)\n",
    "    update_Q(ob, r, a, ob_next, done)\n",
    "    reward += r\n",
    "    if done:\n",
    "        rewards.append(reward)\n",
    "        reward = 0.0\n",
    "        ob = env.reset()\n",
    "    else:\n",
    "        ob = ob_next"
   ]
  },
  {
   "cell_type": "code",
   "execution_count": null,
   "metadata": {},
   "outputs": [],
   "source": [
    "rec = VideoRecorder(env, base_path='./video0_trained')\n",
    "state = env.reset()\n",
    "done = False\n",
    "step = 0\n",
    "while not done:\n",
    "    action = act(state, greedy=True)\n",
    "    state, reward, done, info = env.step(action)\n",
    "    step += 1\n",
    "    rec.capture_frame()\n",
    "rec.close()"
   ]
  }
 ],
 "metadata": {
  "kernelspec": {
   "display_name": "Python 3",
   "language": "python",
   "name": "python3"
  },
  "language_info": {
   "codemirror_mode": {
    "name": "ipython",
    "version": 3
   },
   "file_extension": ".py",
   "mimetype": "text/x-python",
   "name": "python",
   "nbconvert_exporter": "python",
   "pygments_lexer": "ipython3",
   "version": "3.6.10"
  }
 },
 "nbformat": 4,
 "nbformat_minor": 4
}
