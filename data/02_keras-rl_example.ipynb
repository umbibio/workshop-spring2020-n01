{
 "cells": [
  {
   "cell_type": "markdown",
   "metadata": {},
   "source": [
    "# Source\n",
    "\n",
    "https://github.com/keras-rl/keras-rl/blob/master/examples/dqn_cartpole.py"
   ]
  },
  {
   "cell_type": "code",
   "execution_count": 1,
   "metadata": {},
   "outputs": [
    {
     "name": "stderr",
     "output_type": "stream",
     "text": [
      "Using TensorFlow backend.\n",
      "/usr/local/lib/python3.6/site-packages/tensorflow/python/framework/dtypes.py:526: FutureWarning: Passing (type, 1) or '1type' as a synonym of type is deprecated; in a future version of numpy, it will be understood as (type, (1,)) / '(1,)type'.\n",
      "  _np_qint8 = np.dtype([(\"qint8\", np.int8, 1)])\n",
      "/usr/local/lib/python3.6/site-packages/tensorflow/python/framework/dtypes.py:527: FutureWarning: Passing (type, 1) or '1type' as a synonym of type is deprecated; in a future version of numpy, it will be understood as (type, (1,)) / '(1,)type'.\n",
      "  _np_quint8 = np.dtype([(\"quint8\", np.uint8, 1)])\n",
      "/usr/local/lib/python3.6/site-packages/tensorflow/python/framework/dtypes.py:528: FutureWarning: Passing (type, 1) or '1type' as a synonym of type is deprecated; in a future version of numpy, it will be understood as (type, (1,)) / '(1,)type'.\n",
      "  _np_qint16 = np.dtype([(\"qint16\", np.int16, 1)])\n",
      "/usr/local/lib/python3.6/site-packages/tensorflow/python/framework/dtypes.py:529: FutureWarning: Passing (type, 1) or '1type' as a synonym of type is deprecated; in a future version of numpy, it will be understood as (type, (1,)) / '(1,)type'.\n",
      "  _np_quint16 = np.dtype([(\"quint16\", np.uint16, 1)])\n",
      "/usr/local/lib/python3.6/site-packages/tensorflow/python/framework/dtypes.py:530: FutureWarning: Passing (type, 1) or '1type' as a synonym of type is deprecated; in a future version of numpy, it will be understood as (type, (1,)) / '(1,)type'.\n",
      "  _np_qint32 = np.dtype([(\"qint32\", np.int32, 1)])\n",
      "/usr/local/lib/python3.6/site-packages/tensorflow/python/framework/dtypes.py:535: FutureWarning: Passing (type, 1) or '1type' as a synonym of type is deprecated; in a future version of numpy, it will be understood as (type, (1,)) / '(1,)type'.\n",
      "  np_resource = np.dtype([(\"resource\", np.ubyte, 1)])\n"
     ]
    }
   ],
   "source": [
    "import numpy as np\n",
    "import gym\n",
    "\n",
    "from keras.models import Sequential\n",
    "from keras.layers import Dense, Activation, Flatten\n",
    "from keras.optimizers import Adam\n",
    "\n",
    "from rl.agents.dqn import DQNAgent\n",
    "from rl.policy import BoltzmannQPolicy\n",
    "from rl.memory import SequentialMemory\n",
    "\n",
    "\n",
    "ENV_NAME = 'CartPole-v0'"
   ]
  },
  {
   "cell_type": "code",
   "execution_count": 2,
   "metadata": {},
   "outputs": [
    {
     "name": "stdout",
     "output_type": "stream",
     "text": [
      "TensorFlow Ver:  1.13.1\n"
     ]
    }
   ],
   "source": [
    "import tensorflow as tf\n",
    "print(\"TensorFlow Ver: \", tf.__version__)"
   ]
  },
  {
   "cell_type": "code",
   "execution_count": 3,
   "metadata": {},
   "outputs": [
    {
     "name": "stderr",
     "output_type": "stream",
     "text": [
      "/usr/local/lib/python3.6/site-packages/gym/logger.py:30: UserWarning: \u001b[33mWARN: Box bound precision lowered by casting to float32\u001b[0m\n",
      "  warnings.warn(colorize('%s: %s'%('WARN', msg % args), 'yellow'))\n"
     ]
    }
   ],
   "source": [
    "# Get the environment and extract the number of actions.\n",
    "env = gym.make(ENV_NAME)\n",
    "np.random.seed(123)\n",
    "env.seed(123)\n",
    "nb_actions = env.action_space.n"
   ]
  },
  {
   "cell_type": "code",
   "execution_count": 4,
   "metadata": {},
   "outputs": [
    {
     "name": "stdout",
     "output_type": "stream",
     "text": [
      "WARNING:tensorflow:From /usr/local/lib/python3.6/site-packages/tensorflow/python/ops/resource_variable_ops.py:435: colocate_with (from tensorflow.python.framework.ops) is deprecated and will be removed in a future version.\n",
      "Instructions for updating:\n",
      "Colocations handled automatically by placer.\n",
      "Model: \"sequential_1\"\n",
      "_________________________________________________________________\n",
      "Layer (type)                 Output Shape              Param #   \n",
      "=================================================================\n",
      "flatten_1 (Flatten)          (None, 4)                 0         \n",
      "_________________________________________________________________\n",
      "dense_1 (Dense)              (None, 16)                80        \n",
      "_________________________________________________________________\n",
      "activation_1 (Activation)    (None, 16)                0         \n",
      "_________________________________________________________________\n",
      "dense_2 (Dense)              (None, 16)                272       \n",
      "_________________________________________________________________\n",
      "activation_2 (Activation)    (None, 16)                0         \n",
      "_________________________________________________________________\n",
      "dense_3 (Dense)              (None, 16)                272       \n",
      "_________________________________________________________________\n",
      "activation_3 (Activation)    (None, 16)                0         \n",
      "_________________________________________________________________\n",
      "dense_4 (Dense)              (None, 2)                 34        \n",
      "_________________________________________________________________\n",
      "activation_4 (Activation)    (None, 2)                 0         \n",
      "=================================================================\n",
      "Total params: 658\n",
      "Trainable params: 658\n",
      "Non-trainable params: 0\n",
      "_________________________________________________________________\n",
      "None\n"
     ]
    }
   ],
   "source": [
    "# Next, we build a very simple model.\n",
    "model = Sequential()\n",
    "model.add(Flatten(input_shape=(1,) + env.observation_space.shape))\n",
    "model.add(Dense(16))\n",
    "model.add(Activation('relu'))\n",
    "model.add(Dense(16))\n",
    "model.add(Activation('relu'))\n",
    "model.add(Dense(16))\n",
    "model.add(Activation('relu'))\n",
    "model.add(Dense(nb_actions))\n",
    "model.add(Activation('linear'))\n",
    "print(model.summary())"
   ]
  },
  {
   "cell_type": "code",
   "execution_count": 5,
   "metadata": {},
   "outputs": [],
   "source": [
    "# Finally, we configure and compile our agent. You can use every built-in Keras optimizer and\n",
    "# even the metrics!\n",
    "memory = SequentialMemory(limit=50000, window_length=1)\n",
    "policy = BoltzmannQPolicy()\n",
    "dqn = DQNAgent(model=model, nb_actions=nb_actions, memory=memory, nb_steps_warmup=10,\n",
    "               target_model_update=1e-2, policy=policy)\n",
    "dqn.compile(Adam(lr=1e-3), metrics=['mae'])"
   ]
  },
  {
   "cell_type": "code",
   "execution_count": 6,
   "metadata": {},
   "outputs": [
    {
     "name": "stdout",
     "output_type": "stream",
     "text": [
      "Training for 5000 steps ...\n",
      "WARNING:tensorflow:From /usr/local/lib/python3.6/site-packages/tensorflow/python/ops/math_ops.py:3066: to_int32 (from tensorflow.python.ops.math_ops) is deprecated and will be removed in a future version.\n",
      "Instructions for updating:\n",
      "Use tf.cast instead.\n"
     ]
    },
    {
     "name": "stderr",
     "output_type": "stream",
     "text": [
      "/usr/local/lib/python3.6/site-packages/rl/memory.py:39: UserWarning: Not enough entries to sample without replacement. Consider increasing your warm-up phase to avoid oversampling!\n",
      "  warnings.warn('Not enough entries to sample without replacement. Consider increasing your warm-up phase to avoid oversampling!')\n"
     ]
    },
    {
     "name": "stdout",
     "output_type": "stream",
     "text": [
      "   25/5000: episode: 1, duration: 0.916s, episode steps: 25, steps per second: 27, episode reward: 25.000, mean reward: 1.000 [1.000, 1.000], mean action: 0.560 [0.000, 1.000], mean observation: -0.075 [-1.581, 0.783], loss: 0.498124, mae: 0.519847, mean_q: 0.082007\n",
      "   48/5000: episode: 2, duration: 0.107s, episode steps: 23, steps per second: 215, episode reward: 23.000, mean reward: 1.000 [1.000, 1.000], mean action: 0.652 [0.000, 1.000], mean observation: -0.015 [-2.217, 1.421], loss: 0.391827, mae: 0.541160, mean_q: 0.366019\n"
     ]
    },
    {
     "name": "stderr",
     "output_type": "stream",
     "text": [
      "/usr/local/lib/python3.6/site-packages/rl/memory.py:39: UserWarning: Not enough entries to sample without replacement. Consider increasing your warm-up phase to avoid oversampling!\n",
      "  warnings.warn('Not enough entries to sample without replacement. Consider increasing your warm-up phase to avoid oversampling!')\n"
     ]
    },
    {
     "name": "stdout",
     "output_type": "stream",
     "text": [
      "   72/5000: episode: 3, duration: 0.119s, episode steps: 24, steps per second: 203, episode reward: 24.000, mean reward: 1.000 [1.000, 1.000], mean action: 0.458 [0.000, 1.000], mean observation: 0.101 [-0.730, 1.389], loss: 0.253760, mae: 0.636087, mean_q: 0.781288\n",
      "  107/5000: episode: 4, duration: 0.164s, episode steps: 35, steps per second: 213, episode reward: 35.000, mean reward: 1.000 [1.000, 1.000], mean action: 0.571 [0.000, 1.000], mean observation: -0.055 [-1.904, 0.971], loss: 0.120218, mae: 0.747019, mean_q: 1.212072\n",
      "  133/5000: episode: 5, duration: 0.129s, episode steps: 26, steps per second: 202, episode reward: 26.000, mean reward: 1.000 [1.000, 1.000], mean action: 0.577 [0.000, 1.000], mean observation: -0.059 [-2.024, 1.218], loss: 0.055564, mae: 0.837558, mean_q: 1.465897\n",
      "  205/5000: episode: 6, duration: 0.335s, episode steps: 72, steps per second: 215, episode reward: 72.000, mean reward: 1.000 [1.000, 1.000], mean action: 0.472 [0.000, 1.000], mean observation: 0.042 [-1.148, 1.981], loss: 0.023913, mae: 0.887037, mean_q: 1.682688\n",
      "  220/5000: episode: 7, duration: 0.071s, episode steps: 15, steps per second: 212, episode reward: 15.000, mean reward: 1.000 [1.000, 1.000], mean action: 0.667 [0.000, 1.000], mean observation: -0.092 [-1.815, 1.032], loss: 0.028844, mae: 1.045970, mean_q: 2.025010\n",
      "  232/5000: episode: 8, duration: 0.058s, episode steps: 12, steps per second: 208, episode reward: 12.000, mean reward: 1.000 [1.000, 1.000], mean action: 0.667 [0.000, 1.000], mean observation: -0.113 [-1.946, 1.174], loss: 0.023235, mae: 1.102153, mean_q: 2.180363\n",
      "  251/5000: episode: 9, duration: 0.106s, episode steps: 19, steps per second: 180, episode reward: 19.000, mean reward: 1.000 [1.000, 1.000], mean action: 0.368 [0.000, 1.000], mean observation: 0.101 [-0.946, 1.866], loss: 0.029077, mae: 1.169635, mean_q: 2.298195\n",
      "  274/5000: episode: 10, duration: 0.110s, episode steps: 23, steps per second: 208, episode reward: 23.000, mean reward: 1.000 [1.000, 1.000], mean action: 0.609 [0.000, 1.000], mean observation: -0.071 [-1.954, 1.163], loss: 0.044347, mae: 1.253899, mean_q: 2.473444\n",
      "  291/5000: episode: 11, duration: 0.082s, episode steps: 17, steps per second: 208, episode reward: 17.000, mean reward: 1.000 [1.000, 1.000], mean action: 0.412 [0.000, 1.000], mean observation: 0.081 [-1.012, 1.674], loss: 0.043512, mae: 1.345637, mean_q: 2.631877\n",
      "  311/5000: episode: 12, duration: 0.102s, episode steps: 20, steps per second: 196, episode reward: 20.000, mean reward: 1.000 [1.000, 1.000], mean action: 0.550 [0.000, 1.000], mean observation: -0.061 [-1.621, 1.023], loss: 0.050866, mae: 1.424777, mean_q: 2.775761\n",
      "  324/5000: episode: 13, duration: 0.066s, episode steps: 13, steps per second: 197, episode reward: 13.000, mean reward: 1.000 [1.000, 1.000], mean action: 0.231 [0.000, 1.000], mean observation: 0.112 [-1.331, 2.199], loss: 0.059644, mae: 1.503894, mean_q: 2.938828\n",
      "  354/5000: episode: 14, duration: 0.141s, episode steps: 30, steps per second: 213, episode reward: 30.000, mean reward: 1.000 [1.000, 1.000], mean action: 0.533 [0.000, 1.000], mean observation: -0.048 [-1.246, 0.618], loss: 0.090541, mae: 1.600970, mean_q: 3.091246\n",
      "  369/5000: episode: 15, duration: 0.079s, episode steps: 15, steps per second: 190, episode reward: 15.000, mean reward: 1.000 [1.000, 1.000], mean action: 0.600 [0.000, 1.000], mean observation: -0.095 [-1.456, 0.969], loss: 0.122585, mae: 1.678982, mean_q: 3.212799\n",
      "  395/5000: episode: 16, duration: 0.128s, episode steps: 26, steps per second: 203, episode reward: 26.000, mean reward: 1.000 [1.000, 1.000], mean action: 0.577 [0.000, 1.000], mean observation: -0.056 [-1.578, 0.806], loss: 0.079613, mae: 1.754290, mean_q: 3.387691\n",
      "  406/5000: episode: 17, duration: 0.061s, episode steps: 11, steps per second: 179, episode reward: 11.000, mean reward: 1.000 [1.000, 1.000], mean action: 0.727 [0.000, 1.000], mean observation: -0.134 [-1.799, 1.005], loss: 0.094897, mae: 1.858051, mean_q: 3.637436\n",
      "  419/5000: episode: 18, duration: 0.067s, episode steps: 13, steps per second: 193, episode reward: 13.000, mean reward: 1.000 [1.000, 1.000], mean action: 0.231 [0.000, 1.000], mean observation: 0.111 [-1.385, 2.286], loss: 0.075680, mae: 1.872772, mean_q: 3.639837\n",
      "  431/5000: episode: 19, duration: 0.062s, episode steps: 12, steps per second: 194, episode reward: 12.000, mean reward: 1.000 [1.000, 1.000], mean action: 0.250 [0.000, 1.000], mean observation: 0.125 [-1.345, 2.167], loss: 0.080428, mae: 1.943303, mean_q: 3.834594\n",
      "  441/5000: episode: 20, duration: 0.055s, episode steps: 10, steps per second: 181, episode reward: 10.000, mean reward: 1.000 [1.000, 1.000], mean action: 0.800 [0.000, 1.000], mean observation: -0.122 [-2.165, 1.375], loss: 0.095983, mae: 1.982377, mean_q: 3.906198\n",
      "  452/5000: episode: 21, duration: 0.056s, episode steps: 11, steps per second: 197, episode reward: 11.000, mean reward: 1.000 [1.000, 1.000], mean action: 0.455 [0.000, 1.000], mean observation: 0.130 [-0.766, 1.360], loss: 0.098916, mae: 2.003377, mean_q: 3.891916\n",
      "  467/5000: episode: 22, duration: 0.077s, episode steps: 15, steps per second: 194, episode reward: 15.000, mean reward: 1.000 [1.000, 1.000], mean action: 0.333 [0.000, 1.000], mean observation: 0.101 [-1.002, 1.840], loss: 0.148661, mae: 2.091526, mean_q: 4.046153\n",
      "  478/5000: episode: 23, duration: 0.056s, episode steps: 11, steps per second: 196, episode reward: 11.000, mean reward: 1.000 [1.000, 1.000], mean action: 0.182 [0.000, 1.000], mean observation: 0.140 [-1.341, 2.377], loss: 0.163170, mae: 2.177163, mean_q: 4.236269\n",
      "  493/5000: episode: 24, duration: 0.081s, episode steps: 15, steps per second: 184, episode reward: 15.000, mean reward: 1.000 [1.000, 1.000], mean action: 0.667 [0.000, 1.000], mean observation: -0.077 [-1.746, 1.001], loss: 0.240541, mae: 2.219438, mean_q: 4.181550\n",
      "  516/5000: episode: 25, duration: 0.110s, episode steps: 23, steps per second: 210, episode reward: 23.000, mean reward: 1.000 [1.000, 1.000], mean action: 0.348 [0.000, 1.000], mean observation: 0.018 [-1.381, 2.091], loss: 0.126258, mae: 2.304407, mean_q: 4.484938\n",
      "  549/5000: episode: 26, duration: 0.172s, episode steps: 33, steps per second: 192, episode reward: 33.000, mean reward: 1.000 [1.000, 1.000], mean action: 0.364 [0.000, 1.000], mean observation: 0.023 [-1.737, 2.661], loss: 0.170348, mae: 2.421987, mean_q: 4.683288\n",
      "  563/5000: episode: 27, duration: 0.091s, episode steps: 14, steps per second: 155, episode reward: 14.000, mean reward: 1.000 [1.000, 1.000], mean action: 0.286 [0.000, 1.000], mean observation: 0.076 [-1.189, 1.930], loss: 0.197180, mae: 2.506157, mean_q: 4.787003\n",
      "  589/5000: episode: 28, duration: 0.171s, episode steps: 26, steps per second: 152, episode reward: 26.000, mean reward: 1.000 [1.000, 1.000], mean action: 0.577 [0.000, 1.000], mean observation: -0.081 [-1.601, 0.752], loss: 0.167308, mae: 2.600679, mean_q: 4.993136\n",
      "  615/5000: episode: 29, duration: 0.128s, episode steps: 26, steps per second: 204, episode reward: 26.000, mean reward: 1.000 [1.000, 1.000], mean action: 0.538 [0.000, 1.000], mean observation: -0.033 [-1.162, 0.826], loss: 0.162951, mae: 2.650781, mean_q: 5.121920\n",
      "  634/5000: episode: 30, duration: 0.104s, episode steps: 19, steps per second: 182, episode reward: 19.000, mean reward: 1.000 [1.000, 1.000], mean action: 0.474 [0.000, 1.000], mean observation: 0.091 [-0.737, 1.245], loss: 0.125664, mae: 2.738338, mean_q: 5.331120\n",
      "  653/5000: episode: 31, duration: 0.093s, episode steps: 19, steps per second: 204, episode reward: 19.000, mean reward: 1.000 [1.000, 1.000], mean action: 0.421 [0.000, 1.000], mean observation: 0.058 [-0.818, 1.312], loss: 0.153715, mae: 2.807612, mean_q: 5.433339\n",
      "  668/5000: episode: 32, duration: 0.072s, episode steps: 15, steps per second: 208, episode reward: 15.000, mean reward: 1.000 [1.000, 1.000], mean action: 0.467 [0.000, 1.000], mean observation: 0.084 [-0.637, 1.082], loss: 0.205862, mae: 2.936595, mean_q: 5.682888\n",
      "  686/5000: episode: 33, duration: 0.097s, episode steps: 18, steps per second: 186, episode reward: 18.000, mean reward: 1.000 [1.000, 1.000], mean action: 0.389 [0.000, 1.000], mean observation: 0.084 [-0.963, 1.715], loss: 0.163857, mae: 2.964957, mean_q: 5.748566\n",
      "  717/5000: episode: 34, duration: 0.146s, episode steps: 31, steps per second: 212, episode reward: 31.000, mean reward: 1.000 [1.000, 1.000], mean action: 0.516 [0.000, 1.000], mean observation: 0.086 [-0.730, 1.188], loss: 0.192249, mae: 3.040690, mean_q: 5.865173\n",
      "  744/5000: episode: 35, duration: 0.140s, episode steps: 27, steps per second: 193, episode reward: 27.000, mean reward: 1.000 [1.000, 1.000], mean action: 0.407 [0.000, 1.000], mean observation: 0.075 [-1.018, 1.966], loss: 0.266277, mae: 3.171263, mean_q: 6.085714\n",
      "  785/5000: episode: 36, duration: 0.190s, episode steps: 41, steps per second: 216, episode reward: 41.000, mean reward: 1.000 [1.000, 1.000], mean action: 0.488 [0.000, 1.000], mean observation: 0.051 [-0.444, 1.303], loss: 0.199731, mae: 3.321585, mean_q: 6.432632\n",
      "  811/5000: episode: 37, duration: 0.137s, episode steps: 26, steps per second: 189, episode reward: 26.000, mean reward: 1.000 [1.000, 1.000], mean action: 0.538 [0.000, 1.000], mean observation: -0.081 [-1.409, 0.807], loss: 0.299716, mae: 3.447641, mean_q: 6.600426\n",
      "  848/5000: episode: 38, duration: 0.180s, episode steps: 37, steps per second: 206, episode reward: 37.000, mean reward: 1.000 [1.000, 1.000], mean action: 0.514 [0.000, 1.000], mean observation: 0.057 [-0.950, 1.365], loss: 0.279343, mae: 3.560210, mean_q: 6.871943\n",
      "  874/5000: episode: 39, duration: 0.130s, episode steps: 26, steps per second: 201, episode reward: 26.000, mean reward: 1.000 [1.000, 1.000], mean action: 0.500 [0.000, 1.000], mean observation: 0.082 [-0.784, 1.171], loss: 0.304696, mae: 3.675410, mean_q: 7.086211\n",
      "  934/5000: episode: 40, duration: 0.285s, episode steps: 60, steps per second: 210, episode reward: 60.000, mean reward: 1.000 [1.000, 1.000], mean action: 0.467 [0.000, 1.000], mean observation: -0.129 [-1.317, 0.723], loss: 0.238850, mae: 3.854490, mean_q: 7.519493\n",
      "  944/5000: episode: 41, duration: 0.050s, episode steps: 10, steps per second: 200, episode reward: 10.000, mean reward: 1.000 [1.000, 1.000], mean action: 0.300 [0.000, 1.000], mean observation: 0.138 [-0.982, 1.728], loss: 0.251524, mae: 4.016788, mean_q: 7.891613\n",
      "  959/5000: episode: 42, duration: 0.072s, episode steps: 15, steps per second: 207, episode reward: 15.000, mean reward: 1.000 [1.000, 1.000], mean action: 0.467 [0.000, 1.000], mean observation: 0.070 [-1.025, 1.515], loss: 0.401374, mae: 4.061164, mean_q: 7.884278\n",
      "  970/5000: episode: 43, duration: 0.053s, episode steps: 11, steps per second: 207, episode reward: 11.000, mean reward: 1.000 [1.000, 1.000], mean action: 0.364 [0.000, 1.000], mean observation: 0.140 [-0.754, 1.489], loss: 0.240156, mae: 4.078794, mean_q: 7.993967\n",
      "  994/5000: episode: 44, duration: 0.121s, episode steps: 24, steps per second: 198, episode reward: 24.000, mean reward: 1.000 [1.000, 1.000], mean action: 0.583 [0.000, 1.000], mean observation: -0.039 [-1.602, 1.020], loss: 0.340875, mae: 4.206212, mean_q: 8.212934\n",
      " 1038/5000: episode: 45, duration: 0.202s, episode steps: 44, steps per second: 218, episode reward: 44.000, mean reward: 1.000 [1.000, 1.000], mean action: 0.545 [0.000, 1.000], mean observation: 0.141 [-0.916, 0.992], loss: 0.259165, mae: 4.335115, mean_q: 8.547825\n",
      " 1067/5000: episode: 46, duration: 0.139s, episode steps: 29, steps per second: 209, episode reward: 29.000, mean reward: 1.000 [1.000, 1.000], mean action: 0.448 [0.000, 1.000], mean observation: -0.073 [-1.129, 0.816], loss: 0.417593, mae: 4.492345, mean_q: 8.803935\n",
      " 1111/5000: episode: 47, duration: 0.211s, episode steps: 44, steps per second: 209, episode reward: 44.000, mean reward: 1.000 [1.000, 1.000], mean action: 0.523 [0.000, 1.000], mean observation: 0.042 [-1.189, 1.182], loss: 0.332906, mae: 4.611025, mean_q: 9.057531\n",
      " 1142/5000: episode: 48, duration: 0.146s, episode steps: 31, steps per second: 213, episode reward: 31.000, mean reward: 1.000 [1.000, 1.000], mean action: 0.516 [0.000, 1.000], mean observation: 0.012 [-1.004, 1.371], loss: 0.392327, mae: 4.825432, mean_q: 9.532586\n",
      " 1230/5000: episode: 49, duration: 0.409s, episode steps: 88, steps per second: 215, episode reward: 88.000, mean reward: 1.000 [1.000, 1.000], mean action: 0.455 [0.000, 1.000], mean observation: 0.319 [-1.608, 3.276], loss: 0.381863, mae: 5.018514, mean_q: 9.948683\n",
      " 1284/5000: episode: 50, duration: 0.254s, episode steps: 54, steps per second: 212, episode reward: 54.000, mean reward: 1.000 [1.000, 1.000], mean action: 0.481 [0.000, 1.000], mean observation: -0.170 [-1.626, 1.073], loss: 0.739956, mae: 5.376484, mean_q: 10.656212\n",
      " 1471/5000: episode: 51, duration: 0.909s, episode steps: 187, steps per second: 206, episode reward: 187.000, mean reward: 1.000 [1.000, 1.000], mean action: 0.471 [0.000, 1.000], mean observation: -0.264 [-1.983, 1.062], loss: 0.485886, mae: 5.899992, mean_q: 11.885675\n",
      " 1500/5000: episode: 52, duration: 0.191s, episode steps: 29, steps per second: 152, episode reward: 29.000, mean reward: 1.000 [1.000, 1.000], mean action: 0.448 [0.000, 1.000], mean observation: -0.005 [-1.002, 1.298], loss: 0.419755, mae: 6.389756, mean_q: 12.937555\n",
      " 1617/5000: episode: 53, duration: 0.623s, episode steps: 117, steps per second: 188, episode reward: 117.000, mean reward: 1.000 [1.000, 1.000], mean action: 0.547 [0.000, 1.000], mean observation: 0.196 [-1.841, 2.588], loss: 0.787165, mae: 6.710845, mean_q: 13.536642\n",
      " 1780/5000: episode: 54, duration: 0.804s, episode steps: 163, steps per second: 203, episode reward: 163.000, mean reward: 1.000 [1.000, 1.000], mean action: 0.472 [0.000, 1.000], mean observation: -0.357 [-2.193, 1.313], loss: 0.695772, mae: 7.374737, mean_q: 14.958142\n",
      " 1961/5000: episode: 55, duration: 0.903s, episode steps: 181, steps per second: 200, episode reward: 181.000, mean reward: 1.000 [1.000, 1.000], mean action: 0.481 [0.000, 1.000], mean observation: -0.204 [-1.467, 1.263], loss: 0.845766, mae: 8.201164, mean_q: 16.626675\n",
      " 2113/5000: episode: 56, duration: 0.769s, episode steps: 152, steps per second: 198, episode reward: 152.000, mean reward: 1.000 [1.000, 1.000], mean action: 0.474 [0.000, 1.000], mean observation: -0.340 [-2.040, 1.317], loss: 0.759583, mae: 8.938499, mean_q: 18.228281\n",
      " 2313/5000: episode: 57, duration: 0.970s, episode steps: 200, steps per second: 206, episode reward: 200.000, mean reward: 1.000 [1.000, 1.000], mean action: 0.485 [0.000, 1.000], mean observation: -0.104 [-1.120, 1.104], loss: 0.852257, mae: 9.815828, mean_q: 20.032703\n",
      " 2471/5000: episode: 58, duration: 0.762s, episode steps: 158, steps per second: 207, episode reward: 158.000, mean reward: 1.000 [1.000, 1.000], mean action: 0.468 [0.000, 1.000], mean observation: -0.312 [-1.836, 1.028], loss: 0.916545, mae: 10.736348, mean_q: 22.004492\n",
      " 2671/5000: episode: 59, duration: 0.917s, episode steps: 200, steps per second: 218, episode reward: 200.000, mean reward: 1.000 [1.000, 1.000], mean action: 0.505 [0.000, 1.000], mean observation: 0.106 [-1.091, 1.279], loss: 1.367884, mae: 11.619079, mean_q: 23.649170\n",
      " 2871/5000: episode: 60, duration: 0.928s, episode steps: 200, steps per second: 216, episode reward: 200.000, mean reward: 1.000 [1.000, 1.000], mean action: 0.485 [0.000, 1.000], mean observation: -0.100 [-1.183, 1.212], loss: 1.447922, mae: 12.624446, mean_q: 25.756367\n",
      " 3037/5000: episode: 61, duration: 0.770s, episode steps: 166, steps per second: 216, episode reward: 166.000, mean reward: 1.000 [1.000, 1.000], mean action: 0.464 [0.000, 1.000], mean observation: -0.360 [-2.246, 0.754], loss: 1.373004, mae: 13.481907, mean_q: 27.468826\n",
      " 3180/5000: episode: 62, duration: 0.667s, episode steps: 143, steps per second: 214, episode reward: 143.000, mean reward: 1.000 [1.000, 1.000], mean action: 0.462 [0.000, 1.000], mean observation: -0.367 [-2.015, 0.934], loss: 2.062229, mae: 14.149119, mean_q: 28.746750\n",
      " 3342/5000: episode: 63, duration: 0.759s, episode steps: 162, steps per second: 213, episode reward: 162.000, mean reward: 1.000 [1.000, 1.000], mean action: 0.463 [0.000, 1.000], mean observation: -0.341 [-2.157, 1.114], loss: 1.985252, mae: 14.816938, mean_q: 30.126453\n",
      " 3508/5000: episode: 64, duration: 0.789s, episode steps: 166, steps per second: 211, episode reward: 166.000, mean reward: 1.000 [1.000, 1.000], mean action: 0.470 [0.000, 1.000], mean observation: -0.354 [-2.162, 1.195], loss: 1.553378, mae: 15.389573, mean_q: 31.438412\n",
      " 3661/5000: episode: 65, duration: 0.709s, episode steps: 153, steps per second: 216, episode reward: 153.000, mean reward: 1.000 [1.000, 1.000], mean action: 0.471 [0.000, 1.000], mean observation: -0.343 [-1.943, 0.898], loss: 1.572619, mae: 16.187456, mean_q: 33.030491\n",
      " 3851/5000: episode: 66, duration: 0.880s, episode steps: 190, steps per second: 216, episode reward: 190.000, mean reward: 1.000 [1.000, 1.000], mean action: 0.474 [0.000, 1.000], mean observation: -0.319 [-2.142, 0.894], loss: 1.767729, mae: 16.858034, mean_q: 34.440456\n",
      " 4018/5000: episode: 67, duration: 0.778s, episode steps: 167, steps per second: 215, episode reward: 167.000, mean reward: 1.000 [1.000, 1.000], mean action: 0.473 [0.000, 1.000], mean observation: -0.324 [-2.028, 0.877], loss: 3.114654, mae: 17.497583, mean_q: 35.578045\n",
      " 4212/5000: episode: 68, duration: 0.894s, episode steps: 194, steps per second: 217, episode reward: 194.000, mean reward: 1.000 [1.000, 1.000], mean action: 0.474 [0.000, 1.000], mean observation: -0.273 [-1.878, 0.836], loss: 1.809241, mae: 18.188046, mean_q: 37.047562\n",
      " 4396/5000: episode: 69, duration: 0.840s, episode steps: 184, steps per second: 219, episode reward: 184.000, mean reward: 1.000 [1.000, 1.000], mean action: 0.478 [0.000, 1.000], mean observation: -0.262 [-1.667, 0.974], loss: 1.461347, mae: 18.992002, mean_q: 38.793312\n",
      " 4596/5000: episode: 70, duration: 0.917s, episode steps: 200, steps per second: 218, episode reward: 200.000, mean reward: 1.000 [1.000, 1.000], mean action: 0.480 [0.000, 1.000], mean observation: -0.220 [-1.516, 0.878], loss: 2.085735, mae: 19.847288, mean_q: 40.543041\n",
      " 4796/5000: episode: 71, duration: 0.915s, episode steps: 200, steps per second: 218, episode reward: 200.000, mean reward: 1.000 [1.000, 1.000], mean action: 0.495 [0.000, 1.000], mean observation: 0.041 [-0.886, 1.116], loss: 2.176830, mae: 20.606714, mean_q: 42.024158\n",
      " 4996/5000: episode: 72, duration: 0.915s, episode steps: 200, steps per second: 219, episode reward: 200.000, mean reward: 1.000 [1.000, 1.000], mean action: 0.495 [0.000, 1.000], mean observation: -0.038 [-0.935, 1.273], loss: 1.761606, mae: 21.642353, mean_q: 44.080399\n",
      "done, took 24.806 seconds\n"
     ]
    },
    {
     "data": {
      "text/plain": [
       "<keras.callbacks.callbacks.History at 0x7f2f7e8d0e80>"
      ]
     },
     "execution_count": 6,
     "metadata": {},
     "output_type": "execute_result"
    }
   ],
   "source": [
    "# Okay, now it's time to learn something! We visualize the training here for show, but this\n",
    "# slows down training quite a lot. You can always safely abort the training prematurely using\n",
    "# Ctrl + C.\n",
    "dqn.fit(env, nb_steps=5000, visualize=False, verbose=2)\n",
    "\n",
    "# # After training is done, we save the final weights.\n",
    "# dqn.save_weights('dqn_{}_weights.h5f'.format(ENV_NAME), overwrite=True)"
   ]
  },
  {
   "cell_type": "code",
   "execution_count": 7,
   "metadata": {},
   "outputs": [
    {
     "name": "stdout",
     "output_type": "stream",
     "text": [
      "Testing for 5 episodes ...\n",
      "Episode 1: reward: 200.000, steps: 200\n",
      "Episode 2: reward: 200.000, steps: 200\n",
      "Episode 3: reward: 200.000, steps: 200\n",
      "Episode 4: reward: 181.000, steps: 181\n",
      "Episode 5: reward: 200.000, steps: 200\n"
     ]
    },
    {
     "data": {
      "text/plain": [
       "<keras.callbacks.callbacks.History at 0x7f2f64216278>"
      ]
     },
     "execution_count": 7,
     "metadata": {},
     "output_type": "execute_result"
    }
   ],
   "source": [
    "# Finally, evaluate our algorithm for 5 episodes.\n",
    "dqn.test(env, nb_episodes=5, visualize=False)"
   ]
  },
  {
   "cell_type": "code",
   "execution_count": null,
   "metadata": {},
   "outputs": [],
   "source": []
  }
 ],
 "metadata": {
  "kernelspec": {
   "display_name": "Python 3",
   "language": "python",
   "name": "python3"
  },
  "language_info": {
   "codemirror_mode": {
    "name": "ipython",
    "version": 3
   },
   "file_extension": ".py",
   "mimetype": "text/x-python",
   "name": "python",
   "nbconvert_exporter": "python",
   "pygments_lexer": "ipython3",
   "version": "3.6.10"
  }
 },
 "nbformat": 4,
 "nbformat_minor": 4
}
